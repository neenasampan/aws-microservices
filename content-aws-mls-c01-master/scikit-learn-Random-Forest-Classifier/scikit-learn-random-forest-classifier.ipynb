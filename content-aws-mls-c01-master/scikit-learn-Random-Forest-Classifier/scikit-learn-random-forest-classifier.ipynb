{
 "cells": [
  {
   "cell_type": "markdown",
   "metadata": {},
   "source": [
    "![Linux Academy](la-logo.png)\n",
    "<hr/>"
   ]
  },
  {
   "cell_type": "markdown",
   "metadata": {},
   "source": [
    "<center><h1>Random Forest Classifier Using scikit-learn</h1></center>"
   ]
  },
  {
   "cell_type": "markdown",
   "metadata": {},
   "source": [
    "|![Sparky](sparky.png)|![Penny](penny.png)|\n",
    "|:-------------------:|:-------------------:|\n",
    "|Sparky the Dog|Penny the Cat|"
   ]
  },
  {
   "cell_type": "markdown",
   "metadata": {
    "_uuid": "bab978a4d9bc483f0697223cca084e52213fdf00"
   },
   "source": [
    "<center><h2>Are You Likely to Be a Dog Person or a Cat Person?</h2></center>"
   ]
  },
  {
   "cell_type": "markdown",
   "metadata": {},
   "source": [
    "# Introduction\n",
    "\n",
    "In this Linux Academy hands-on lab, we take a quick look at __scikit-learn__, a machine learning framework.\n",
    "\n",
    "Designed to be native to Python, scikit-learn contains various classification, regression, and clustering algorithms, including __random forests__ which we use in this lab.\n",
    "\n",
    "# Scenario\n",
    "\n",
    "We run a multinational pet store franchise, and we want to know if people are more into dogs or cats. We've contracted a survey company to collect information on 199 people, including if they think themselves to be 'dog people' or 'cat people'. The questions they asked were:\n",
    "\n",
    "- Do you like walking?\n",
    "- Do you like running?\n",
    "- What is your favorite color?\n",
    "- How many miles do you run in a day?\n",
    "- Do you like dogs or cats?\n",
    "\n",
    "Clearly this is a fictitious dataset. If this were real, we'd fire the survey company!\n",
    "\n",
    "We're going to use a random forest algorithm trained with our survey data to build a model that classifies new customers as dog or cat people.\n",
    "\n",
    "We do this using standard Python libraries such as NumPy, Pandas, and matplotlib along with scikit-learn.\n",
    "\n",
    "## scikit-learn\n",
    "### Machine Learning in Python\n",
    "\n",
    "- Simple and efficient tools for data mining and data analysis.\n",
    "- Accessible to everybody and reusable in various contexts.\n",
    "- Built on NumPy, SciPy, and matplotlib.\n",
    "- Open source and commercially usable - BSD license.\n",
    "\n",
    "_(Source: https://scikit-learn.org/)_"
   ]
  },
  {
   "cell_type": "markdown",
   "metadata": {},
   "source": [
    "# How to Use This Lab\n",
    "\n",
    "This is a follow-along lab. That is to say the code in this Jupyter Notebook should be complete, and you could simply execute the notebook to get a result. However, watch along with the video to learn more about what is happening in the code and then take the time to experiment with the code; make changes, break it, fix it, and learn!"
   ]
  },
  {
   "cell_type": "markdown",
   "metadata": {},
   "source": [
    "# 1) The Libraries"
   ]
  },
  {
   "cell_type": "code",
   "execution_count": null,
   "metadata": {
    "_cell_guid": "b1076dfc-b9ad-4769-8c92-a6c4dae69d19",
    "_uuid": "8f2839f25d086af736a60e9eeb907d3b93b6e0e5"
   },
   "outputs": [],
   "source": [
    "# Most of these includes are pretty standard \n",
    "import numpy as np\n",
    "import pandas as pd\n",
    "import matplotlib.pyplot as plt\n",
    "import matplotlib.image as mpimg\n",
    "import seaborn as sn\n",
    "%matplotlib inline\n",
    "\n",
    "from sklearn.ensemble import RandomForestClassifier\n",
    "from sklearn.tree import DecisionTreeClassifier\n",
    "from sklearn.tree import export_graphviz\n",
    "from sklearn.metrics import confusion_matrix\n",
    "from sklearn.metrics import roc_curve, auc\n",
    "from sklearn.model_selection import train_test_split\n",
    "\n",
    "# If you want to be able to reproduce results, we can uncomment the next line:\n",
    "# np.random.seed(123)\n",
    "\n",
    "# Libraries like to warn us of things, but we'll \n",
    "# turn this off for now.\n",
    "pd.options.mode.chained_assignment = None\n",
    "from warnings import simplefilter\n",
    "simplefilter(action='ignore', category=FutureWarning)\n",
    "\n",
    "# These two includes help us render a graph\n",
    "from subprocess import call\n",
    "from IPython.display import Image"
   ]
  },
  {
   "cell_type": "markdown",
   "metadata": {
    "_uuid": "78d63e79cfb6f48e78dab7c785e8e952a08d518c"
   },
   "source": [
    "# 2) Load the Data [pandas]"
   ]
  },
  {
   "cell_type": "markdown",
   "metadata": {},
   "source": [
    "We have a dataset created from a set of people who either liked dogs or cats. Clearly this is a fictional dataset and some of the data is useless. But let's see what we can learn from it.\n",
    "\n",
    "First we load the data."
   ]
  },
  {
   "cell_type": "code",
   "execution_count": null,
   "metadata": {
    "_cell_guid": "79c7e3d0-c299-4dcb-8224-4455121ee9b0",
    "_uuid": "d629ff2d2480ee46fbb7e2d37f6b5fab8052498a"
   },
   "outputs": [],
   "source": [
    "df = pd.read_csv(\"data.csv\")"
   ]
  },
  {
   "cell_type": "code",
   "execution_count": null,
   "metadata": {
    "_uuid": "21e08d6a0db8c6d69310fffcc78ca6f69070c1a5"
   },
   "outputs": [],
   "source": [
    "df.head(10)"
   ]
  },
  {
   "cell_type": "markdown",
   "metadata": {},
   "source": [
    "Let's change the names of some of the columns, including marking ```dogs_cats``` as an out label."
   ]
  },
  {
   "cell_type": "code",
   "execution_count": null,
   "metadata": {
    "_uuid": "f3caf3de0a7e6d4602b26a1e72bf42d42ef0aac0"
   },
   "outputs": [],
   "source": [
    "df.columns = ['walk', 'run', 'color', 'distance', 'label']"
   ]
  },
  {
   "cell_type": "markdown",
   "metadata": {},
   "source": [
    "With the data loaded, let's check to see what data types we have."
   ]
  },
  {
   "cell_type": "code",
   "execution_count": null,
   "metadata": {
    "_uuid": "d9071ced2d8af54afece86069d15189a73b57198"
   },
   "outputs": [],
   "source": [
    "df.dtypes"
   ]
  },
  {
   "cell_type": "markdown",
   "metadata": {
    "_uuid": "6719808a43af6e2a70306d22c9107d4201bd8953"
   },
   "source": [
    "Some of those aren't quite what we want. The code below changes some to boolean values and the color into a categorical variable."
   ]
  },
  {
   "cell_type": "code",
   "execution_count": null,
   "metadata": {
    "_uuid": "12edd841e271a4f7c8c039aa73412c0d6d7e5dad"
   },
   "outputs": [],
   "source": [
    "df['walk'] = df['walk'].astype('bool')\n",
    "df['run'] = df['run'].astype('bool')\n",
    "df['color'] = df['color'].astype('category',categories=['red','green','blue'])\n",
    "df['label'] = df['label'].astype('bool')"
   ]
  },
  {
   "cell_type": "code",
   "execution_count": null,
   "metadata": {
    "_uuid": "55c1d2d27385000bb2c9fc24bde9e4278427d507"
   },
   "outputs": [],
   "source": [
    "df.dtypes"
   ]
  },
  {
   "cell_type": "markdown",
   "metadata": {
    "_uuid": "322dc81858a93b4ddc868d8f2ab930fbdbaef966"
   },
   "source": [
    "The algorithm will not understand color as a list of strings. With the data as it is now, we can expect to get the following error when we trt to fit the data:\n",
    "```ValueError: could not convert string to float: 'green'```\n",
    "So we use the ```get_dummies``` command to perform a one hot encoding process directly into the dataframe."
   ]
  },
  {
   "cell_type": "code",
   "execution_count": null,
   "metadata": {
    "_uuid": "b6ec4deb644854301fa463758df32d6171f1c615"
   },
   "outputs": [],
   "source": [
    "df = pd.get_dummies(df, prefix=['color'])"
   ]
  },
  {
   "cell_type": "code",
   "execution_count": null,
   "metadata": {
    "_uuid": "b7e5dbbfb3ac0c50881317ec9148cd60f8593def"
   },
   "outputs": [],
   "source": [
    "df.head(10)"
   ]
  },
  {
   "cell_type": "markdown",
   "metadata": {
    "_uuid": "771e4a2e2c9c25b99fee912eee47c97c6cb3b1cc"
   },
   "source": [
    "<a id='section3'></a>"
   ]
  },
  {
   "cell_type": "markdown",
   "metadata": {
    "_uuid": "58c7f30375a2ffb7e02763e249e441a12cd437f1"
   },
   "source": [
    "# 3) Training [scikit-learn]"
   ]
  },
  {
   "cell_type": "markdown",
   "metadata": {},
   "source": [
    "Now we start to use scikit-learn. First we use ```train_test_split``` to split our data into training data and testing data. We ask for a 80/20 split between training and testing."
   ]
  },
  {
   "cell_type": "code",
   "execution_count": null,
   "metadata": {
    "_uuid": "315ebc70bfe105f4b224974415db867d3d1e6b66"
   },
   "outputs": [],
   "source": [
    "X_train, X_test, y_train, y_test = train_test_split(df.drop('label', 1), df['label'], test_size = .2, random_state=10)"
   ]
  },
  {
   "cell_type": "markdown",
   "metadata": {},
   "source": [
    "The time has come to train. First, we create the model. We're using the ```RandomForestClassifier``` and we set some paramters here. There are many more parameters. You can read about them here: https://scikit-learn.org/stable/modules/generated/sklearn.ensemble.RandomForestClassifier.html."
   ]
  },
  {
   "cell_type": "code",
   "execution_count": null,
   "metadata": {
    "_uuid": "6169b0b96267bea8bd8c35d64470d634edd79d78"
   },
   "outputs": [],
   "source": [
    "model = RandomForestClassifier(max_depth=5)"
   ]
  },
  {
   "cell_type": "markdown",
   "metadata": {},
   "source": [
    "Now we call ```fit``` and pass in the training data."
   ]
  },
  {
   "cell_type": "code",
   "execution_count": null,
   "metadata": {},
   "outputs": [],
   "source": [
    "model.fit(X_train, y_train)"
   ]
  },
  {
   "cell_type": "markdown",
   "metadata": {},
   "source": [
    "That was quick. Now, let's see what we got."
   ]
  },
  {
   "cell_type": "markdown",
   "metadata": {},
   "source": [
    "# 4) Testing and Analysis [scikit-learn]"
   ]
  },
  {
   "cell_type": "markdown",
   "metadata": {},
   "source": [
    "First, we grab the estimator from the trained model."
   ]
  },
  {
   "cell_type": "code",
   "execution_count": null,
   "metadata": {
    "_uuid": "ba57c6d01b0c052d84a8555f25112e171cb87b69"
   },
   "outputs": [],
   "source": [
    "estimator = model.estimators_[0]\n",
    "feature_names = [i for i in X_train.columns]"
   ]
  },
  {
   "cell_type": "markdown",
   "metadata": {},
   "source": [
    "Then we use ```export_graphviz``` to get a graphical representation of __one of__ the trees in our forest. __After this code block has run, wait a moment for the graph to appear.__"
   ]
  },
  {
   "cell_type": "code",
   "execution_count": null,
   "metadata": {
    "_uuid": "0b8e83b26ca2de7f8db94154f27fabd5e231ed7d"
   },
   "outputs": [],
   "source": [
    "export_graphviz(estimator, out_file='tree.dot',\n",
    "                feature_names = feature_names,\n",
    "                rounded = True,\n",
    "                filled = True)\n",
    "\n",
    "# Use CLI Graphviz to create a png file from our graph data:\n",
    "call(['dot', '-Tpng', 'tree.dot', '-o', 'tree.png', '-Gdpi=600'])\n",
    "\n",
    "Image(filename = 'tree.png')"
   ]
  },
  {
   "cell_type": "markdown",
   "metadata": {
    "_uuid": "6773e207b1fbf84352462d6889fa52d3ecfb90bb"
   },
   "source": [
    "Now let's run our testing data through the model."
   ]
  },
  {
   "cell_type": "code",
   "execution_count": null,
   "metadata": {
    "_uuid": "c215bcb6b80e12905f54b6a33620b6514d1e915a"
   },
   "outputs": [],
   "source": [
    "y_predict = model.predict(X_test)\n",
    "y_pred_quant = model.predict_proba(X_test)[:, 1]\n",
    "y_pred_bin = model.predict(X_test)"
   ]
  },
  {
   "cell_type": "markdown",
   "metadata": {
    "_uuid": "6e690433e6cd2bc181f5af0d514274f29fe502bf"
   },
   "source": [
    "To see how it performed, let's use ```confusion_matrix``` to create a confusion matrix from the testing."
   ]
  },
  {
   "cell_type": "code",
   "execution_count": null,
   "metadata": {
    "_uuid": "a0fe6269405b8404a60fd656ee2940f50cc4c0d3"
   },
   "outputs": [],
   "source": [
    "confusion_matrix = confusion_matrix(y_test, y_pred_bin)\n",
    "confusion_matrix"
   ]
  },
  {
   "cell_type": "markdown",
   "metadata": {},
   "source": [
    "That's not the easiest confusion matrix to look at. Let's add some style to it using the ```seaborn``` library."
   ]
  },
  {
   "cell_type": "code",
   "execution_count": null,
   "metadata": {},
   "outputs": [],
   "source": [
    "y_true = [\"Dog\", \"Cat\"]\n",
    "y_pred = [\"Dog\", \"Cat\"]\n",
    "df_cm = pd.DataFrame(confusion_matrix, columns=np.unique(y_true), index = np.unique(y_true))\n",
    "df_cm.index.name = 'Actual'\n",
    "df_cm.columns.name = 'Predicted'\n",
    "\n",
    "df_cm.dtypes\n",
    "\n",
    "plt.figure(figsize = (8,5))\n",
    "plt.title('Confusion Matrix')\n",
    "sn.set(font_scale=1.4)#for label size\n",
    "sn.heatmap(df_cm, cmap=\"Blues\", annot=True,annot_kws={\"size\": 16})# font size"
   ]
  },
  {
   "cell_type": "markdown",
   "metadata": {},
   "source": [
    "And from the confusion matrix, let's calculate **sensitivity** and **specificity**."
   ]
  },
  {
   "cell_type": "code",
   "execution_count": null,
   "metadata": {
    "_uuid": "fcd6e81d7fdfae6571aee37f210cbd6f15da1a8a"
   },
   "outputs": [],
   "source": [
    "total=sum(sum(confusion_matrix))\n",
    "\n",
    "sensitivity = confusion_matrix[0,0]/(confusion_matrix[0,0]+confusion_matrix[1,0])\n",
    "print('Sensitivity : ', sensitivity )\n",
    "\n",
    "specificity = confusion_matrix[1,1]/(confusion_matrix[1,1]+confusion_matrix[0,1])\n",
    "print('Specificity : ', specificity)"
   ]
  },
  {
   "cell_type": "markdown",
   "metadata": {
    "_uuid": "1c5e22af3bc387bc958407153cc6c9d26f56f0a4"
   },
   "source": [
    "Now let's look at the __ROC__ graph."
   ]
  },
  {
   "cell_type": "code",
   "execution_count": null,
   "metadata": {
    "_uuid": "82e957d065f62731292b9aac5ae97b4a06471857"
   },
   "outputs": [],
   "source": [
    "fpr, tpr, thresholds = roc_curve(y_test, y_pred_quant)\n",
    "\n",
    "fig, ax = plt.subplots()\n",
    "ax.plot(fpr, tpr)\n",
    "ax.plot([0, 1], [0, 1], transform=ax.transAxes, ls=\"--\", c=\".3\")\n",
    "plt.xlim([0.0, 1.0])\n",
    "plt.ylim([0.0, 1.0])\n",
    "plt.rcParams['font.size'] = 12\n",
    "plt.title('ROC curve for Dog vs Cat people')\n",
    "plt.xlabel('False Positive Rate (1 - Specificity)')\n",
    "plt.ylabel('True Positive Rate (Sensitivity)')\n",
    "plt.grid(True)"
   ]
  },
  {
   "cell_type": "markdown",
   "metadata": {
    "_uuid": "8ed12e0c62ef890b4da211792d3b7039bdb49ae3"
   },
   "source": [
    "And calculate the __AUC__."
   ]
  },
  {
   "cell_type": "code",
   "execution_count": null,
   "metadata": {
    "_uuid": "9ca5cf9a346ee339d3a5133b92ae4c80fcccf2e2"
   },
   "outputs": [],
   "source": [
    "auc(fpr, tpr)"
   ]
  },
  {
   "cell_type": "markdown",
   "metadata": {},
   "source": [
    "# 5) Try It Yourself"
   ]
  },
  {
   "cell_type": "markdown",
   "metadata": {},
   "source": [
    "Enter some values into the code below and make an inference."
   ]
  },
  {
   "cell_type": "code",
   "execution_count": null,
   "metadata": {
    "_uuid": "24d613abb60bb713089e3474e23323260e70b64b"
   },
   "outputs": [],
   "source": [
    "# Do you like walking?  1=yes, 0=no\n",
    "like_walking = 0\n",
    "\n",
    "# Do you like running?  1=yes, 0=no\n",
    "like_running = 1\n",
    "\n",
    "# How far do you run in a day?\n",
    "distance_run = 10\n",
    "\n",
    "# What is your favourite color? Answer ONLY ONE with a 1\n",
    "red = 0\n",
    "green = 1\n",
    "blue = 0\n",
    "\n",
    "# Get the prediction:\n",
    "prediction = model.predict([[like_walking, like_running, distance_run, red, green, blue]])\n",
    "\n",
    "# The following is all display code:\n",
    "if prediction[0]:\n",
    "    animal = 'dog'\n",
    "    pic = 'sparky.png'\n",
    "else:\n",
    "    animal = 'cat'\n",
    "    pic = 'penny.png'\n",
    "    \n",
    "img=mpimg.imread(pic)\n",
    "imgplot = plt.imshow(img)\n",
    "plt.grid(False)\n",
    "plt.xticks([])\n",
    "plt.yticks([])\n",
    "plt.title(\"We predict that you're a %s person!\" % animal)\n",
    "plt.show()\n"
   ]
  },
  {
   "cell_type": "markdown",
   "metadata": {},
   "source": [
    "Did it get the answer right? Probably not, but the data is flawed."
   ]
  },
  {
   "cell_type": "markdown",
   "metadata": {},
   "source": [
    "That's the end of this Linux Academy hands-on lab. Thanks!"
   ]
  },
  {
   "cell_type": "code",
   "execution_count": null,
   "metadata": {},
   "outputs": [],
   "source": []
  }
 ],
 "metadata": {
  "kernelspec": {
   "display_name": "conda_python3",
   "language": "python",
   "name": "conda_python3"
  },
  "language_info": {
   "codemirror_mode": {
    "name": "ipython",
    "version": 3
   },
   "file_extension": ".py",
   "mimetype": "text/x-python",
   "name": "python",
   "nbconvert_exporter": "python",
   "pygments_lexer": "ipython3",
   "version": "3.6.5"
  }
 },
 "nbformat": 4,
 "nbformat_minor": 1
}
